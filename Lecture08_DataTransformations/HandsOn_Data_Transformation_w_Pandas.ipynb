{
  "nbformat": 4,
  "nbformat_minor": 0,
  "metadata": {
    "colab": {
      "name": "HandsOn_Data_Transformation_w_Pandas.ipynb",
      "provenance": [],
      "authorship_tag": "ABX9TyN7GTr+pwhevE9UDXtsCUWg",
      "include_colab_link": true
    },
    "kernelspec": {
      "name": "python3",
      "display_name": "Python 3"
    },
    "language_info": {
      "name": "python"
    }
  },
  "cells": [
    {
      "cell_type": "markdown",
      "metadata": {
        "id": "view-in-github",
        "colab_type": "text"
      },
      "source": [
        "<a href=\"https://colab.research.google.com/github/simsekergun/DATA601/blob/main/Lecture08_DataTransformations/HandsOn_Data_Transformation_w_Pandas.ipynb\" target=\"_parent\"><img src=\"https://colab.research.google.com/assets/colab-badge.svg\" alt=\"Open In Colab\"/></a>"
      ]
    },
    {
      "cell_type": "code",
      "execution_count": null,
      "metadata": {
        "id": "J14SyUOA6ySg"
      },
      "outputs": [],
      "source": [
        "import pandas as pd\n",
        "import numpy as np\n",
        "import matplotlib.pyplot as plt"
      ]
    },
    {
      "cell_type": "markdown",
      "source": [
        "### NYC FLIGHTS DATASET\n",
        "- <b>year, month, day:</b> Date of departure.\n",
        "- <b>dep_time, arr_time:</b> Actual departure and arrival times (format HHMM or HMM), local tz.\n",
        "- <b>sched_dep_time, sched_arr_time:</b> Scheduled departure and arrival times (format HHMM or HMM), local time-zone.\n",
        "- <b>dep_delay, arr_delay:</b> Departure and arrival delays, in minutes. Negative times represent early departures/arrivals.\n",
        "- <b>carrier:</b> Two letter carrier abbreviation. \n",
        "- <b>flight:</b> Flight number.\n",
        "- <b>tailnum:</b> identification number of an aircraft painted on its tail\n",
        "- <b>origin, dest:</b> Origin and destination.\n",
        "- <b>air_time:</b> Amount of time spent in the air, in minutes.\n",
        "- <b>distance:</b> Distance between airports, in miles.\n",
        "- <b>hour, minute:</b> Time of scheduled departure broken into hour and minutes.\n",
        "- <b>time_hour:</b> Scheduled date and hour of the flight as a POSIXct date."
      ],
      "metadata": {
        "id": "9cAB8yJd648f"
      }
    },
    {
      "cell_type": "code",
      "source": [
        "flights = pd.read_csv('https://raw.githubusercontent.com/mguner/teaching/main/datasets/nyc_flights/nyc_flights.csv')"
      ],
      "metadata": {
        "id": "gm2YyenR62Ms"
      },
      "execution_count": null,
      "outputs": []
    }
  ]
}