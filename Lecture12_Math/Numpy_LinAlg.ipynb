{
 "cells": [
  {
   "cell_type": "code",
   "execution_count": 1,
   "metadata": {
    "executionInfo": {
     "elapsed": 2,
     "status": "ok",
     "timestamp": 1649997775521,
     "user": {
      "displayName": "Ergun Simsek",
      "userId": "16739529127101354422"
     },
     "user_tz": 240
    },
    "id": "93u4hK10ef8k"
   },
   "outputs": [],
   "source": [
    "import numpy as np\n",
    "import pandas as pd\n",
    "import matplotlib.pyplot as plt"
   ]
  },
  {
   "cell_type": "markdown",
   "metadata": {},
   "source": [
    "### Dot Product"
   ]
  },
  {
   "cell_type": "code",
   "execution_count": 2,
   "metadata": {},
   "outputs": [
    {
     "name": "stdout",
     "output_type": "stream",
     "text": [
      "6 2\n"
     ]
    }
   ],
   "source": [
    "# Example\n",
    "x = np.array([1,1,1])\n",
    "y = np.array([1,2,3])\n",
    "z = np.array([1,-2,3])\n",
    "c = np.dot(x,y)\n",
    "d = np.dot(x,z)\n",
    "print(c,d)"
   ]
  },
  {
   "cell_type": "markdown",
   "metadata": {},
   "source": [
    "### Basic Matrix Operations"
   ]
  },
  {
   "cell_type": "code",
   "execution_count": 4,
   "metadata": {
    "executionInfo": {
     "elapsed": 2,
     "status": "ok",
     "timestamp": 1649996900596,
     "user": {
      "displayName": "Ergun Simsek",
      "userId": "16739529127101354422"
     },
     "user_tz": 240
    },
    "id": "7r5h-pfReiW4"
   },
   "outputs": [],
   "source": [
    "A = np.array([[6, 1, 1],\n",
    "              [4, -2, 5],\n",
    "              [2, 8, 7]])"
   ]
  },
  {
   "cell_type": "code",
   "execution_count": 5,
   "metadata": {
    "colab": {
     "base_uri": "https://localhost:8080/"
    },
    "executionInfo": {
     "elapsed": 4,
     "status": "ok",
     "timestamp": 1649996908860,
     "user": {
      "displayName": "Ergun Simsek",
      "userId": "16739529127101354422"
     },
     "user_tz": 240
    },
    "id": "icZwtERheqVf",
    "outputId": "2f7f5031-9297-4f95-8cda-31e5d259b12f"
   },
   "outputs": [
    {
     "data": {
      "text/plain": [
       "3"
      ]
     },
     "execution_count": 5,
     "metadata": {},
     "output_type": "execute_result"
    }
   ],
   "source": [
    "# Rank of a matrix\n",
    "np.linalg.matrix_rank(A)"
   ]
  },
  {
   "cell_type": "markdown",
   "metadata": {},
   "source": [
    "*Trace* is the sum of diagonal elements in the matrix"
   ]
  },
  {
   "cell_type": "code",
   "execution_count": 4,
   "metadata": {
    "colab": {
     "base_uri": "https://localhost:8080/"
    },
    "executionInfo": {
     "elapsed": 3,
     "status": "ok",
     "timestamp": 1649996922480,
     "user": {
      "displayName": "Ergun Simsek",
      "userId": "16739529127101354422"
     },
     "user_tz": 240
    },
    "id": "N6UdpqnZesXk",
    "outputId": "6fa093b1-963e-4a73-c1a8-c7a6d284523c"
   },
   "outputs": [
    {
     "data": {
      "text/plain": [
       "11"
      ]
     },
     "execution_count": 4,
     "metadata": {},
     "output_type": "execute_result"
    }
   ],
   "source": [
    "# Trace of matrix A\n",
    "np.trace(A)"
   ]
  },
  {
   "cell_type": "code",
   "execution_count": 5,
   "metadata": {
    "colab": {
     "base_uri": "https://localhost:8080/"
    },
    "executionInfo": {
     "elapsed": 2,
     "status": "ok",
     "timestamp": 1649996936287,
     "user": {
      "displayName": "Ergun Simsek",
      "userId": "16739529127101354422"
     },
     "user_tz": 240
    },
    "id": "A-3gVjF6evxY",
    "outputId": "6f86d7ae-4aa9-45b3-af04-db62de262323"
   },
   "outputs": [
    {
     "data": {
      "text/plain": [
       "-306.0"
      ]
     },
     "execution_count": 5,
     "metadata": {},
     "output_type": "execute_result"
    }
   ],
   "source": [
    "# Determinant of a matrix\n",
    "np.linalg.det(A)"
   ]
  },
  {
   "cell_type": "code",
   "execution_count": 6,
   "metadata": {
    "colab": {
     "base_uri": "https://localhost:8080/"
    },
    "executionInfo": {
     "elapsed": 2,
     "status": "ok",
     "timestamp": 1649996947571,
     "user": {
      "displayName": "Ergun Simsek",
      "userId": "16739529127101354422"
     },
     "user_tz": 240
    },
    "id": "mzvyVb8KezEq",
    "outputId": "b97cb749-9cdd-4113-c842-6d460d674458"
   },
   "outputs": [
    {
     "data": {
      "text/plain": [
       "array([[ 0.17647059, -0.00326797, -0.02287582],\n",
       "       [ 0.05882353, -0.13071895,  0.08496732],\n",
       "       [-0.11764706,  0.1503268 ,  0.05228758]])"
      ]
     },
     "execution_count": 6,
     "metadata": {},
     "output_type": "execute_result"
    }
   ],
   "source": [
    "# Inverse of matrix A\n",
    "np.linalg.inv(A)"
   ]
  },
  {
   "cell_type": "code",
   "execution_count": 7,
   "metadata": {
    "colab": {
     "base_uri": "https://localhost:8080/"
    },
    "executionInfo": {
     "elapsed": 260,
     "status": "ok",
     "timestamp": 1649997149373,
     "user": {
      "displayName": "Ergun Simsek",
      "userId": "16739529127101354422"
     },
     "user_tz": 240
    },
    "id": "jRrDoaQCe10y",
    "outputId": "5f9cb80d-dfb6-40d6-e394-a2de88661027",
    "tags": []
   },
   "outputs": [
    {
     "data": {
      "text/plain": [
       "array([[336, 162, 228],\n",
       "       [406, 162, 469],\n",
       "       [698, 702, 905]])"
      ]
     },
     "execution_count": 7,
     "metadata": {},
     "output_type": "execute_result"
    }
   ],
   "source": [
    "# Matrix A raised to power 3\n",
    "np.linalg.matrix_power(A, 3)"
   ]
  },
  {
   "cell_type": "markdown",
   "metadata": {},
   "source": [
    "### Solve A*x = b "
   ]
  },
  {
   "cell_type": "code",
   "execution_count": 12,
   "metadata": {
    "executionInfo": {
     "elapsed": 279,
     "status": "ok",
     "timestamp": 1649997614020,
     "user": {
      "displayName": "Ergun Simsek",
      "userId": "16739529127101354422"
     },
     "user_tz": 240
    },
    "id": "jW2fLOHJfnGN"
   },
   "outputs": [],
   "source": [
    "# Solve A*x = b with numpy.linalg.solve()\n",
    "\n",
    "A = np.array([[1, 2], [3, 4]])\n",
    "b = np.array([8, 18])\n",
    "\n",
    "x = np.linalg.solve(A, b)"
   ]
  },
  {
   "cell_type": "code",
   "execution_count": 13,
   "metadata": {
    "colab": {
     "base_uri": "https://localhost:8080/"
    },
    "executionInfo": {
     "elapsed": 263,
     "status": "ok",
     "timestamp": 1649997621871,
     "user": {
      "displayName": "Ergun Simsek",
      "userId": "16739529127101354422"
     },
     "user_tz": 240
    },
    "id": "LDUaPVxwhLJ9",
    "outputId": "ecd80bca-545e-4a83-9b56-432747d3a73c"
   },
   "outputs": [
    {
     "data": {
      "text/plain": [
       "array([ 8., 18.])"
      ]
     },
     "execution_count": 13,
     "metadata": {},
     "output_type": "execute_result"
    }
   ],
   "source": [
    "# Check the answer\n",
    "np.dot(A,x)"
   ]
  },
  {
   "cell_type": "markdown",
   "metadata": {},
   "source": [
    "## Linear Regression with LinAlg"
   ]
  },
  {
   "cell_type": "markdown",
   "metadata": {
    "id": "JS1oofEchiRZ"
   },
   "source": [
    "`numpy.linalg.lstsq()` : Return the least-squares solution to a linear matrix equation.Solves the equation ${\\bf A x} = {\\bf b}$ by computing a vector x that minimizes the Euclidean 2-norm $||{\\bf b} - {\\bf A x} ||^2$. \n",
    "\n",
    "The equation may be under-, well-, or over- determined (i.e., the number of linearly independent rows of a can be less than, equal to, or greater than its number of linearly independent columns). If a is square and of full rank, then x (but for round-off error) is the “exact” solution of the equation."
   ]
  },
  {
   "cell_type": "code",
   "execution_count": 17,
   "metadata": {
    "colab": {
     "base_uri": "https://localhost:8080/",
     "height": 338
    },
    "executionInfo": {
     "elapsed": 928,
     "status": "ok",
     "timestamp": 1649997840756,
     "user": {
      "displayName": "Ergun Simsek",
      "userId": "16739529127101354422"
     },
     "user_tz": 240
    },
    "id": "p_XrLoOjhO4I",
    "outputId": "2085cdc7-3647-4738-c83e-e784f1dcbdc8"
   },
   "outputs": [
    {
     "name": "stderr",
     "output_type": "stream",
     "text": [
      "/usr/local/lib/python3.7/dist-packages/ipykernel_launcher.py:7: FutureWarning: `rcond` parameter will change to the default of machine precision times ``max(M, N)`` where M and N are the input matrix dimensions.\n",
      "To use the future default and silence this warning we advise to pass `rcond=None`, to keep using the old, explicitly pass `rcond=-1`.\n",
      "  import sys\n"
     ]
    },
    {
     "data": {
      "image/png": "[encoded data removed]",
      "text/plain": [
       "<Figure size 432x288 with 1 Axes>"
      ]
     },
     "metadata": {
      "needs_background": "light"
     },
     "output_type": "display_data"
    }
   ],
   "source": [
    "x = np.arange(0, 9) # coordinates\n",
    "A = np.array([x, np.ones(9)])\n",
    "\n",
    "# linearly generated sequence\n",
    "y = [19, 21, 20.5, 21.5, 21.2, 23, 23, 25.5, 24]\n",
    "# obtaining the parameters of regression line\n",
    "w = np.linalg.lstsq(A.T, y)[0] \n",
    "\n",
    "# plotting the line\n",
    "line = w[0]*x + w[1] # regression line\n",
    "plt.plot(x, line, 'r-')\n",
    "plt.plot(x, y, 'o')\n",
    "plt.show()"
   ]
  },
  {
   "cell_type": "markdown",
   "metadata": {
    "id": "nWj-sqDji8qN"
   },
   "source": [
    "Example"
   ]
  },
  {
   "cell_type": "code",
   "execution_count": 21,
   "metadata": {
    "colab": {
     "base_uri": "https://localhost:8080/"
    },
    "executionInfo": {
     "elapsed": 271,
     "status": "ok",
     "timestamp": 1649998036506,
     "user": {
      "displayName": "Ergun Simsek",
      "userId": "16739529127101354422"
     },
     "user_tz": 240
    },
    "id": "-7DgBaIWiJrX",
    "outputId": "2e3a2a86-787e-4350-c6b7-b971c401cfad"
   },
   "outputs": [
    {
     "name": "stdout",
     "output_type": "stream",
     "text": [
      "[ -76.64503658 -103.67369278   95.28178504   95.58039106   47.35267885]\n",
      "[]\n",
      "5\n",
      "[2.79206462 1.09081063 0.50950506 0.25163986 0.02151608]\n"
     ]
    },
    {
     "name": "stderr",
     "output_type": "stream",
     "text": [
      "/usr/local/lib/python3.7/dist-packages/ipykernel_launcher.py:4: FutureWarning: `rcond` parameter will change to the default of machine precision times ``max(M, N)`` where M and N are the input matrix dimensions.\n",
      "To use the future default and silence this warning we advise to pass `rcond=None`, to keep using the old, explicitly pass `rcond=-1`.\n",
      "  after removing the cwd from sys.path.\n"
     ]
    }
   ],
   "source": [
    "# Let solve A*solutions = y\n",
    "A = np.random.rand(5,5)\n",
    "y = [1,2,3,4,5]\n",
    "solution, residuals, rank, singular = np.linalg.lstsq(A, y)\n",
    "print(solution)\n",
    "print(residuals)\n",
    "print(rank)\n",
    "print(singular)"
   ]
  },
  {
   "cell_type": "code",
   "execution_count": 22,
   "metadata": {
    "colab": {
     "base_uri": "https://localhost:8080/"
    },
    "executionInfo": {
     "elapsed": 3,
     "status": "ok",
     "timestamp": 1649998080290,
     "user": {
      "displayName": "Ergun Simsek",
      "userId": "16739529127101354422"
     },
     "user_tz": 240
    },
    "id": "C7tCEW6MiihB",
    "outputId": "8e342838-1c25-4979-a3a5-37a81e91a962"
   },
   "outputs": [
    {
     "data": {
      "text/plain": [
       "array([1., 2., 3., 4., 5.])"
      ]
     },
     "execution_count": 22,
     "metadata": {},
     "output_type": "execute_result"
    }
   ],
   "source": [
    "np.dot(A,solution)"
   ]
  },
  {
   "cell_type": "markdown",
   "metadata": {
    "id": "x98gFTDijV66"
   },
   "source": [
    "SVD Example"
   ]
  },
  {
   "cell_type": "code",
   "execution_count": 23,
   "metadata": {
    "colab": {
     "base_uri": "https://localhost:8080/"
    },
    "executionInfo": {
     "elapsed": 252,
     "status": "ok",
     "timestamp": 1649998153941,
     "user": {
      "displayName": "Ergun Simsek",
      "userId": "16739529127101354422"
     },
     "user_tz": 240
    },
    "id": "3loGXEo_jKdd",
    "outputId": "03dacf8d-a642-4a81-efbc-a6c2a2d895c9"
   },
   "outputs": [
    {
     "name": "stdout",
     "output_type": "stream",
     "text": [
      "U\n",
      "[[-0.45614637  0.10566224 -0.63383809  0.06504412 -0.61219647]\n",
      " [-0.47155668 -0.76275889 -0.06788684 -0.35736225  0.25202532]\n",
      " [-0.54822532  0.14888765  0.07338066  0.69648859  0.4322041 ]\n",
      " [-0.30049387  0.61059771 -0.1288678  -0.60098445  0.39885418]\n",
      " [-0.42274959  0.10971451  0.75607474 -0.14759002 -0.46455751]]\n",
      "S\n",
      "[2.45227963 0.85756358 0.54292121 0.21556057 0.09110546]\n",
      "V\n",
      "[[-0.584493   -0.34444528 -0.3069251  -0.44749916 -0.49524425]\n",
      " [-0.4249135  -0.31719225 -0.07073038 -0.08287109  0.84081341]\n",
      " [-0.19579959  0.83175152 -0.41822878 -0.26727482  0.15329966]\n",
      " [ 0.6568326  -0.23948888 -0.33664286 -0.61195723  0.15295735]\n",
      " [ 0.08972126 -0.17771048 -0.78265604  0.58902411 -0.02948228]]\n"
     ]
    }
   ],
   "source": [
    "arr = np.random.rand(5,5)\n",
    "\n",
    "u, s, v = np.linalg.svd(arr)\n",
    "print('U')\n",
    "print(u)\n",
    "print('S')\n",
    "print(s)\n",
    "print('V')\n",
    "print(v)"
   ]
  },
  {
   "cell_type": "code",
   "execution_count": null,
   "metadata": {
    "id": "hi1DfEj9jcTu"
   },
   "outputs": [],
   "source": []
  }
 ],
 "metadata": {
  "colab": {
   "authorship_tag": "ABX9TyMva74w3Zz/ubgQDN9aq9aA",
   "name": "Numpy_LinAlg.ipynb",
   "provenance": []
  },
  "kernelspec": {
   "display_name": "Python 3",
   "language": "python",
   "name": "python3"
  },
  "language_info": {
   "codemirror_mode": {
    "name": "ipython",
    "version": 3
   },
   "file_extension": ".py",
   "mimetype": "text/x-python",
   "name": "python",
   "nbconvert_exporter": "python",
   "pygments_lexer": "ipython3",
   "version": "3.8.8"
  }
 },
 "nbformat": 4,
 "nbformat_minor": 4
}
