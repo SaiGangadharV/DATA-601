{
  "cells": [
    {
      "cell_type": "markdown",
      "metadata": {
        "id": "view-in-github",
        "colab_type": "text"
      },
      "source": [
        "<a href=\"https://colab.research.google.com/github/simsekergun/DATA601/blob/main/Project1/DATA601_Project1.ipynb\" target=\"_parent\"><img src=\"https://colab.research.google.com/assets/colab-badge.svg\" alt=\"Open In Colab\"/></a>"
      ]
    },
    {
      "cell_type": "markdown",
      "metadata": {
        "id": "Nt2eGmdOKCmL"
      },
      "source": [
        "## DATA 601 Project-1 (Spring 2022)\n",
        "### Deadline: March 31, 11:59 pm\n",
        "Please download these the csv files <br>\n",
        "File-1: Maryland Statewide Vehicle Crashes:  <br>\n",
        "https://opendata.maryland.gov/Public-Safety/Maryland-Statewide-Vehicle-Crashes/65du-s3qu\n",
        "\n",
        "File-2: Person Details:  <br>\n",
        "https://opendata.maryland.gov/Public-Safety/Maryland-Statewide-Vehicle-Crashes-Person-Details-/py4c-dicf\n",
        "\n",
        "File-3: Vehicle Details:  <br>\n",
        "https://opendata.maryland.gov/Public-Safety/Maryland-Statewide-Vehicle-Crashes-Vehicle-Details/mhft-5t5y\n",
        "\n",
        "<br>\n",
        "\n",
        "We will only use \"Accident Year = 2020\" data. So, please remove all the unncessary rows. Names these files as \"crashes.csv\", \"persons.csv\", and \"vehicles.csv\", respetively. I will test your notebook with the files I created, so if you have a different naming, your code won't work."
      ]
    },
    {
      "cell_type": "markdown",
      "metadata": {
        "id": "2Cm77Wu6KCmN"
      },
      "source": [
        "### Q1\n",
        "From these three csv files, create a single dataframe which will include following columns only <br>\n",
        "- from the \"crashes.csv\", accident data (acc_dat), accident time (acc_time), weather description (weather_desc),report no, county (county_desc), latittude, and longitude\n",
        "- from the \"persons.csv\", gender, data of birth, and state code\n",
        "- from the \"vehicles.csv\", vehicle year, vehicle make, speed limit\n",
        "<br>\n",
        "\n",
        "Save your dataframe as a new csv file called \"md_crash_2020.csv\".\n",
        "\n",
        "Note: All these csv files have the 'REPORT_NO' column. You need to use that column to combine these datasets."
      ]
    },
    {
      "cell_type": "markdown",
      "metadata": {
        "id": "7akHII8bKCmO"
      },
      "source": [
        "### Q2\n",
        "a. For each county, determine the average age of the drivers who were involved in these accidents  <br>\n",
        "b. Then list the sorted averages (from youngest to oldest) <br>"
      ]
    },
    {
      "cell_type": "markdown",
      "metadata": {
        "id": "Yh9NLokhKCmO"
      },
      "source": [
        "### Q3\n",
        "a. Determine the total number of crashes per \"vehicle make\". List the sorted values (e.g. Honda, 1234)<br>\n",
        "b. Determine average age of the car involved in these accidents for each \"vehicle make\".  <br>"
      ]
    },
    {
      "cell_type": "markdown",
      "metadata": {
        "id": "33AowxTGKCmP"
      },
      "source": [
        "### Q4\n",
        "a. Determine all the accidents that happened in a circle centered at (39.016149, -77.117942) with a radius of 5 km. Among them,  <br>\n",
        "b. Determine the number of accidents where the speed limit was above 51 miles per hour. <br>\n",
        "c. Determine the number of accidents where the speed limit was below 41 miles per hour.  <br>\n",
        "<br>\n",
        "Hint: Please see the \"P1_Helper_Distance_From_Coordinates.ipynb\" that can be found at https://github.com/simsekergun/DATA601/tree/main/Project1"
      ]
    },
    {
      "cell_type": "markdown",
      "metadata": {
        "id": "jb7JLx1YKCmP"
      },
      "source": [
        "### Q5\n",
        "Download \"Licensed Drivers By Sex\" data from  <br>\n",
        "https://github.com/simsekergun/DATA601/tree/main/Project1\n",
        "\n",
        "a. Determine the number of drivers, who got in a car crash, from non-DMV states as a function of gender and list them <br>\n",
        "`St Male Female` <br>\n",
        "`NY 1510  622` <br>\n",
        "`PA 1251 1312` <br>\n",
        "... <br>\n",
        "Note: DMV states: DC, MD, and VA  <br>\n",
        " <br>\n",
        "b. Normalize the previous list with number of male drivers and female drivers for each state. e.g. There are 1 million male drivers in NY and 2 million female drivers, then the normalized numbers should be <br>\n",
        "<br>\n",
        "`St    Male_Norm  Female_Norm` <br>\n",
        "`NY    1.510e-3  0.311e-3` <br>\n",
        "\n"
      ]
    },
    {
      "cell_type": "markdown",
      "metadata": {
        "id": "ZP0MT6tyKCmQ"
      },
      "source": [
        "### Q6\n",
        "a. On which day of the week (Monday through Sunday) do the most of the crashes happen? <br>\n",
        "b. On which hour of the day (00 - 24) do the most of the crashes happen?  <br>"
      ]
    },
    {
      "cell_type": "markdown",
      "metadata": {
        "id": "T4w7e3vLKCmQ"
      },
      "source": [
        "### Q7\n",
        "Download \"Maryland Average Precipitation and Snow 2020\" data from  <br>\n",
        "https://github.com/simsekergun/DATA601/tree/main/Project1\n",
        "\n",
        "You need assume that it is a rainy/snowy day if the second column is bigger than 0.05 or if the third column is bigger than 1; otherwise take that day as a non-rainy/snowy day. <br>\n",
        "a. What is the ratio of the number of accidents happened in rainy/snowy days to the number of accidents happened in non-rainy/snowy days? <br>\n",
        "b. What does this ratio tell us?"
      ]
    },
    {
      "cell_type": "markdown",
      "source": [
        "#Q8\n",
        "Use matplotlib and/or seaborn and show your talent in data visualization. You are free to visualize anything you want regarding this dataset."
      ],
      "metadata": {
        "id": "HkVa5g4dMRO9"
      }
    },
    {
      "cell_type": "code",
      "execution_count": null,
      "metadata": {
        "id": "A_H1rO_6KCmR"
      },
      "outputs": [],
      "source": [
        ""
      ]
    }
  ],
  "metadata": {
    "kernelspec": {
      "display_name": "Python 3",
      "language": "python",
      "name": "python3"
    },
    "language_info": {
      "codemirror_mode": {
        "name": "ipython",
        "version": 3
      },
      "file_extension": ".py",
      "mimetype": "text/x-python",
      "name": "python",
      "nbconvert_exporter": "python",
      "pygments_lexer": "ipython3",
      "version": "3.7.4"
    },
    "colab": {
      "name": "DATA601_Project1.ipynb",
      "provenance": [],
      "include_colab_link": true
    }
  },
  "nbformat": 4,
  "nbformat_minor": 0
}