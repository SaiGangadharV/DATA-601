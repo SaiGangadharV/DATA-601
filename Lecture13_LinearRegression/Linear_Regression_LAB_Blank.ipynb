{
  "nbformat": 4,
  "nbformat_minor": 0,
  "metadata": {
    "colab": {
      "name": "Linear_Regression_LAB_Blank.ipynb",
      "provenance": [],
      "collapsed_sections": [],
      "include_colab_link": true
    },
    "kernelspec": {
      "name": "python3",
      "display_name": "Python 3"
    },
    "language_info": {
      "name": "python"
    }
  },
  "cells": [
    {
      "cell_type": "markdown",
      "metadata": {
        "id": "view-in-github",
        "colab_type": "text"
      },
      "source": [
        "<a href=\"https://colab.research.google.com/github/simsekergun/DATA601/blob/main/Lecture13_LinearRegression/Linear_Regression_LAB_Blank.ipynb\" target=\"_parent\"><img src=\"https://colab.research.google.com/assets/colab-badge.svg\" alt=\"Open In Colab\"/></a>"
      ]
    },
    {
      "cell_type": "code",
      "metadata": {
        "id": "pgebinkwqCk-"
      },
      "source": [
        "import numpy as np\n",
        "import matplotlib.pyplot as plt \n",
        "import pandas as pd  \n",
        "import seaborn as sns \n",
        "%matplotlib inline\n",
        "\n",
        "# For linear regression, we will need\n",
        "from sklearn.linear_model import LinearRegression\n",
        "from sklearn.metrics import mean_squared_error\n",
        "from sklearn.metrics import r2_score\n",
        "from sklearn.model_selection import train_test_split\n",
        "# For the last part, we will need this\n",
        "from numpy.linalg import inv"
      ],
      "execution_count": null,
      "outputs": []
    },
    {
      "cell_type": "markdown",
      "metadata": {
        "id": "wOO_3go6ts0m"
      },
      "source": [
        "In this lab, we will use Boston house prices dataset. You can load the dataset by running the cell below. \n",
        "\n",
        "Here are you tasks:\n",
        "1. Basic EDA\n",
        "2.a. Build a simple linear regression model (using only one feature) to predict the house price, <br>\n",
        "b. determine your model's applicability (R^2) and accuracy (MSE) both for training and testing, and <br> \n",
        "c. Visualize ground-truth vs. prediction.\n",
        "3. a. Build a linear regression model with two features to to predict the house price, <br>\n",
        "b. determine your model's applicability (R^2) and accuracy (MSE) both for training and testing, and <br> \n",
        "c. Visualize ground-truth vs. prediction.\n",
        "4. Repeat task-3(a) with linear algebra\n",
        "\n",
        "Use 80/20 train-test split."
      ]
    },
    {
      "cell_type": "code",
      "metadata": {
        "id": "i1JcjETZqHGn"
      },
      "source": [
        "# load the housing data from the scikit-learn library\n",
        "from sklearn.datasets import load_boston\n",
        "boston_dataset = load_boston()\n",
        "# check this link for more\n",
        "# https://scikit-learn.org/stable/datasets/toy_dataset.html"
      ],
      "execution_count": null,
      "outputs": []
    },
    {
      "cell_type": "code",
      "metadata": {
        "id": "ER7IWZDgqR8X"
      },
      "source": [
        "print(boston_dataset.keys())"
      ],
      "execution_count": null,
      "outputs": []
    },
    {
      "cell_type": "code",
      "metadata": {
        "id": "GGNZZJdCqN6I"
      },
      "source": [
        "print(boston_dataset.DESCR)"
      ],
      "execution_count": null,
      "outputs": []
    },
    {
      "cell_type": "code",
      "source": [
        "# create a dataframe \n",
        "boston = pd.DataFrame(boston_dataset.data, columns=boston_dataset.feature_names)\n",
        "\n",
        "#  the target value MEDV is missing from the data. \n",
        "# create a new column of target values and add it to the dataframe\n",
        "boston['MEDV'] = boston_dataset.target"
      ],
      "metadata": {
        "id": "E8ONOJFfTXyw"
      },
      "execution_count": null,
      "outputs": []
    },
    {
      "cell_type": "markdown",
      "source": [
        "## EDA"
      ],
      "metadata": {
        "id": "hluGXNWfTO8M"
      }
    },
    {
      "cell_type": "code",
      "source": [
        ""
      ],
      "metadata": {
        "id": "Ehx8J2DjTQ7z"
      },
      "execution_count": null,
      "outputs": []
    },
    {
      "cell_type": "markdown",
      "source": [
        "Build a simple linear regression model (x = one of the features, y = medv)"
      ],
      "metadata": {
        "id": "pQI48bwmOiCJ"
      }
    },
    {
      "cell_type": "code",
      "source": [
        ""
      ],
      "metadata": {
        "id": "kXi0uVBLOujG"
      },
      "execution_count": null,
      "outputs": []
    },
    {
      "cell_type": "markdown",
      "metadata": {
        "id": "MY4ZBAijr1Tk"
      },
      "source": [
        "Build a linear regression model"
      ]
    },
    {
      "cell_type": "code",
      "metadata": {
        "id": "a8wnhZRwr17r"
      },
      "source": [
        ""
      ],
      "execution_count": null,
      "outputs": []
    },
    {
      "cell_type": "markdown",
      "metadata": {
        "id": "SRJSD1EgCW8k"
      },
      "source": [
        "## Linear Regression with Linear Algebra"
      ]
    },
    {
      "cell_type": "markdown",
      "source": [
        "### Training"
      ],
      "metadata": {
        "id": "e2MsfG192EId"
      }
    },
    {
      "cell_type": "code",
      "metadata": {
        "id": "uxIR5Wtp2efC"
      },
      "source": [
        ""
      ],
      "execution_count": null,
      "outputs": []
    },
    {
      "cell_type": "markdown",
      "source": [
        "### Testing"
      ],
      "metadata": {
        "id": "xkaIoudW2IeZ"
      }
    },
    {
      "cell_type": "code",
      "source": [
        ""
      ],
      "metadata": {
        "id": "qEsTXbPQ1i2m"
      },
      "execution_count": null,
      "outputs": []
    }
  ]
}